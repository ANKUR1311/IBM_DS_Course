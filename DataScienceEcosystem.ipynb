{
 "cells": [
  {
   "cell_type": "markdown",
   "id": "f4cb7be7-0134-4733-9b9b-65e508d06ba4",
   "metadata": {},
   "source": [
    "# Data Science Tools and Ecosystem"
   ]
  },
  {
   "cell_type": "markdown",
   "id": "3ac7ad62-abb1-4e81-a5ec-bc1e67e4053c",
   "metadata": {},
   "source": [
    "In this notebook, Data Science Tools and Ecosystem are summarized."
   ]
  },
  {
   "cell_type": "markdown",
   "id": "e0397fb4-0653-47f5-bb02-8d7d87324664",
   "metadata": {},
   "source": [
    "### **Objectives:**\n",
    "\n",
    "* Using Jupyter Notebook\n",
    "* Popular language\n",
    "* Open Source tools"
   ]
  },
  {
   "cell_type": "markdown",
   "id": "4e4caf31-b45c-4051-bdfc-9668eb4fdac3",
   "metadata": {
    "tags": []
   },
   "source": [
    "##### Some of the popular languages that Data Scientists use are:\n",
    "1. Python\n",
    "2. R\n",
    "3. Scala"
   ]
  },
  {
   "cell_type": "markdown",
   "id": "572979c0-bda5-4f72-bbfc-a17be3684131",
   "metadata": {},
   "source": [
    "##### Some of the commonly used libraries used by Data Scientists include:\n",
    "1. Dplyr\n",
    "2. Stringr\n",
    "3. PyTorch\n",
    "4. Pandas"
   ]
  },
  {
   "cell_type": "markdown",
   "id": "9a81afbd-2c0c-4d35-ba02-11fd7b5f417a",
   "metadata": {},
   "source": [
    "| Data Science Tools |\n",
    " --------------------\n",
    "| Jupyter |\n",
    "| RStudio |\n",
    "| Apache |"
   ]
  },
  {
   "cell_type": "markdown",
   "id": "689f6fa5-6280-4341-87b9-bb01b58b8c8b",
   "metadata": {},
   "source": [
    "### Below are a few examples of evaluating arithmetic expressions in Python\n",
    "\n",
    "1. 3*4\n",
    "2. 3+4\n",
    "3. 3/4\n",
    "4. 3-4"
   ]
  },
  {
   "cell_type": "markdown",
   "id": "e0359b05-a7a5-46a4-b35b-117e946ef69c",
   "metadata": {},
   "source": [
    "#### This a simple arithmetic expression to mutiply then add integers"
   ]
  },
  {
   "cell_type": "code",
   "execution_count": 2,
   "id": "f143d0b6-2431-4f0a-990f-c716f015d676",
   "metadata": {
    "tags": []
   },
   "outputs": [
    {
     "data": {
      "text/plain": [
       "17"
      ]
     },
     "execution_count": 2,
     "metadata": {},
     "output_type": "execute_result"
    }
   ],
   "source": [
    "(3*4)+5"
   ]
  },
  {
   "cell_type": "markdown",
   "id": "9fd79919-f461-4615-85a4-553699cb77ae",
   "metadata": {},
   "source": [
    "#### This will convert 200 minutes to hours by diving by 60."
   ]
  },
  {
   "cell_type": "code",
   "execution_count": 3,
   "id": "dd05ab31-4795-4d9b-871a-aa7d1ac90687",
   "metadata": {
    "tags": []
   },
   "outputs": [
    {
     "data": {
      "text/plain": [
       "3.3333333333333335"
      ]
     },
     "execution_count": 3,
     "metadata": {},
     "output_type": "execute_result"
    }
   ],
   "source": [
    "200/60"
   ]
  },
  {
   "cell_type": "markdown",
   "id": "8900f818-c054-4882-b64c-6e5583596aa5",
   "metadata": {},
   "source": [
    "## Author\n",
    "Ankur Mishra"
   ]
  },
  {
   "cell_type": "code",
   "execution_count": null,
   "id": "b5126f9b-e140-49bb-a42a-b6bd1add9f73",
   "metadata": {},
   "outputs": [],
   "source": []
  }
 ],
 "metadata": {
  "kernelspec": {
   "display_name": "Python",
   "language": "python",
   "name": "conda-env-python-py"
  },
  "language_info": {
   "codemirror_mode": {
    "name": "ipython",
    "version": 3
   },
   "file_extension": ".py",
   "mimetype": "text/x-python",
   "name": "python",
   "nbconvert_exporter": "python",
   "pygments_lexer": "ipython3",
   "version": "3.7.12"
  }
 },
 "nbformat": 4,
 "nbformat_minor": 5
}
